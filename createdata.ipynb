{
 "metadata": {
  "language_info": {
   "codemirror_mode": {
    "name": "ipython",
    "version": 3
   },
   "file_extension": ".py",
   "mimetype": "text/x-python",
   "name": "python",
   "nbconvert_exporter": "python",
   "pygments_lexer": "ipython3",
   "version": 3
  },
  "orig_nbformat": 2
 },
 "nbformat": 4,
 "nbformat_minor": 2,
 "cells": [
  {
   "cell_type": "code",
   "execution_count": null,
   "metadata": {},
   "outputs": [],
   "source": [
    "from statsmodels.tsa.stattools import coint\n",
    "import numpy as np\n",
    "import pandas as pd\n",
    "import csv\n",
    "# Your New Python File\n",
    "\n",
    "qb = QuantBook()\n",
    "# QuantBook Analysis Tool\n",
    "# For more information see https://www.quantconnect.com/docs/research/overview\n",
    "\n",
    "start_time = datetime(2020, 2, 1) # start datetime for history call\n",
    "end_time = datetime(2020, 5, 1) # end datetime for history call\n",
    "\n",
    "\n",
    "#tickers to create pairs out of\n",
    "tickers =[\"ABT\"]\n",
    "\n",
    "\n",
    "for tick in tickers:\n",
    "    qb.AddEquity(tick)\n",
    "\n",
    "h1 = qb.History(qb.Securities.Keys, start_time, end_time, Resolution.Minute)\n",
    "\n",
    "for ticker in tickers:\n",
    "    d1 = pd.DataFrame(h1.loc[ticker]['close'])\n",
    "    print('\\n')\n",
    "    print(ticker)\n",
    "    print(d1.to_csv(None,index=True,header= False))\n"
   ]
  }
 ]
}